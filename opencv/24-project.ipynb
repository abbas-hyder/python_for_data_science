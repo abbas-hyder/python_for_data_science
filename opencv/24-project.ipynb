{
 "cells": [
  {
   "cell_type": "markdown",
   "metadata": {},
   "source": [
    "# How to find coordinates of an image"
   ]
  },
  {
   "cell_type": "code",
   "execution_count": 1,
   "metadata": {},
   "outputs": [],
   "source": [
    "# step1 import libraries\n",
    "import cv2 as cv\n",
    "import numpy as np"
   ]
  },
  {
   "cell_type": "code",
   "execution_count": 14,
   "metadata": {},
   "outputs": [
    {
     "name": "stdout",
     "output_type": "stream",
     "text": [
      "135 , 291\n",
      "36 , 607\n",
      "307 , 597\n",
      "142 , 645\n",
      "95 , 412\n",
      "70 , 270\n",
      "239 , 278\n"
     ]
    }
   ],
   "source": [
    "# step 2 define function\n",
    "\n",
    "def find_coord(event,x,y,flags,params):\n",
    "    if event == cv.EVENT_LBUTTONDOWN:\n",
    "       #left mouse click\n",
    "        print(x, ',', y)\n",
    "\n",
    "        #how to define or print on same image or window\n",
    "        font = cv.FONT_HERSHEY_PLAIN\n",
    "        cv.putText(img, str(x)+ ',' +str(y),(x,y),font,1,(255,0,0),thickness=2)\n",
    "\n",
    "        #show the text on image and image itself\n",
    "        cv.imshow(\"image\",img)\n",
    "\n",
    "    # final function to read and display\n",
    "if __name__==\"__main__\":\n",
    "    #reading an image\n",
    "    img=cv.imread(\"resources/warp.jpg\",1)\n",
    "    #resize an image\n",
    "    img = cv.resize(img,(500,800))\n",
    "    #display the image\n",
    "    cv.imshow(\"image\",img)\n",
    "    #set mouse call back\n",
    "    cv.setMouseCallback(\"image\",find_coord)\n",
    "    cv.waitKey(0)\n",
    "    cv.destroyAllWindows()\n",
    "\n",
    "\n"
   ]
  },
  {
   "cell_type": "code",
   "execution_count": 12,
   "metadata": {},
   "outputs": [],
   "source": [
    "#defining points\n",
    "\n",
    "point1 = np.float32([[102,108],[401,92],[19,549],[469,555]])  # firt argument for height and second for width\n",
    "width = 500\n",
    "height = 800\n",
    "#point2 where to set image\n",
    "point2 = np.float32([[0,0],[width,0],[0,height],[width,height]])\n",
    "matrix = cv.getPerspectiveTransform(point1,point2)\n",
    "out_img = cv.warpPerspective(img,matrix,(width,height))\n",
    "\n",
    "cv.imshow(\"original\",img)\n",
    "cv.imshow(\"transforemed\",out_img)\n",
    "cv.waitKey(0)\n",
    "cv.destroyAllWindows()"
   ]
  },
  {
   "cell_type": "code",
   "execution_count": null,
   "metadata": {},
   "outputs": [],
   "source": []
  }
 ],
 "metadata": {
  "interpreter": {
   "hash": "e1756e4697185fb6f103b56f666b68de169ea3e82c714d9de15ef9b0cf91643a"
  },
  "kernelspec": {
   "display_name": "Python 3.10.0 64-bit",
   "language": "python",
   "name": "python3"
  },
  "language_info": {
   "codemirror_mode": {
    "name": "ipython",
    "version": 3
   },
   "file_extension": ".py",
   "mimetype": "text/x-python",
   "name": "python",
   "nbconvert_exporter": "python",
   "pygments_lexer": "ipython3",
   "version": "3.10.0"
  },
  "orig_nbformat": 4
 },
 "nbformat": 4,
 "nbformat_minor": 2
}
